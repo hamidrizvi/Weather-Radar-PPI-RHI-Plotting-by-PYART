{
 "cells": [
  {
   "cell_type": "code",
   "execution_count": null,
   "metadata": {},
   "outputs": [],
   "source": [
    "import numpy as np\n",
    "import matplotlib.pyplot as plt\n",
    "import cartopy.crs as ccrs\n",
    "import pyart"
   ]
  },
  {
   "cell_type": "code",
   "execution_count": null,
   "metadata": {},
   "outputs": [],
   "source": [
    "\n",
    "# Read in the file, create a RadarMapDisplay object\n",
    "filename = 'MDV-20150805-084449-PPIVol.nc'\n",
    "radar = pyart.io.read(filename)\n",
    "display = pyart.graph.RadarMapDisplay(radar)"
   ]
  },
  {
   "cell_type": "code",
   "execution_count": null,
   "metadata": {},
   "outputs": [],
   "source": [
    "# Setting projection and ploting the second tilt\n",
    "projection = ccrs.LambertConformal(central_latitude=radar.latitude['data'][0],\n",
    "                                   central_longitude=radar.longitude['data'][0])"
   ]
  },
  {
   "cell_type": "code",
   "execution_count": null,
   "metadata": {},
   "outputs": [],
   "source": [
    "radar.longitude['data'][0],radar.latitude['data'][0]"
   ]
  },
  {
   "cell_type": "code",
   "execution_count": null,
   "metadata": {
    "scrolled": false
   },
   "outputs": [],
   "source": [
    "fig = plt.figure(figsize=[20,8],dpi=200)\n",
    "display.plot_ppi_map('DBZH', 1, vmin=10, vmax=30,\n",
    "                     min_lon=72.6, max_lon=75, min_lat=16.9, max_lat=19.3,\n",
    "                     lon_lines=np.arange(72.6,75, .5), resolution='10m',\n",
    "                     lat_lines=np.arange(16.9,19.3, .5), projection=projection,\n",
    "                     fig=fig, lat_0=radar.latitude['data'][0],\n",
    "                     lon_0=radar.longitude['data'][0],cmap='jet')\n",
    "\n",
    "\n",
    "# Plot range rings at 10, 20, 30, 40km\n",
    "display.plot_range_ring(30., line_style='k-')\n",
    "display.plot_range_ring(60., line_style='k--')\n",
    "display.plot_range_ring(90., line_style='k-')\n",
    "display.plot_range_ring(120., line_style='k--')\n",
    "# Plot cross hairs\n",
    "#display.plot_line_xy(np.array([-120000.0, 120000.0]), np.array([0.0, 0.0]),\n",
    "                     #line_style='k-')\n",
    "#display.plot_line_xy(np.array([0.0, 0.0]), np.array([-20000.0, 200000.0]),\n",
    "                     #line_style='k-')\n",
    "\n",
    "# Indicate the radar location with a point\n",
    "# display.plot_point(radar.longitude['data'][0], radar.latitude['data'][0])\n",
    "\n",
    "fig.tight_layout()\n",
    "plt.show()"
   ]
  },
  {
   "cell_type": "code",
   "execution_count": null,
   "metadata": {},
   "outputs": [],
   "source": []
  },
  {
   "cell_type": "code",
   "execution_count": null,
   "metadata": {},
   "outputs": [],
   "source": []
  }
 ],
 "metadata": {
  "kernelspec": {
   "display_name": "Python 3",
   "language": "python",
   "name": "python3"
  },
  "language_info": {
   "codemirror_mode": {
    "name": "ipython",
    "version": 3
   },
   "file_extension": ".py",
   "mimetype": "text/x-python",
   "name": "python",
   "nbconvert_exporter": "python",
   "pygments_lexer": "ipython3",
   "version": "3.8.6"
  }
 },
 "nbformat": 4,
 "nbformat_minor": 4
}
